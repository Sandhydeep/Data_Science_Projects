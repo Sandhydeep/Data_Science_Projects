{
 "cells": [
  {
   "cell_type": "markdown",
   "id": "2d96692a-dffd-40d8-8b46-52cd62f71681",
   "metadata": {},
   "source": [
    "## Creation of a Portfolio using Markowitz Portfolio Theory\n",
    "###### Steps:\n",
    "1. For a given time-period we first calculate the returns and volatility\n",
    "2. We then plot an efficient frontier, which basically is the set of optimal portfolios that offer the highest expected return for a defined level of    risk.\n",
    "3. We then find the tangency portfolio, which maximizes the Shapre ratio"
   ]
  },
  {
   "cell_type": "code",
   "execution_count": 1,
   "id": "bbc75918-c082-4236-b486-b2c453032c50",
   "metadata": {},
   "outputs": [],
   "source": [
    "import pandas as pd\n",
    "import numpy as np"
   ]
  },
  {
   "cell_type": "code",
   "execution_count": 2,
   "id": "d19aa8ca-b157-4520-a9fc-0183b94bfbd4",
   "metadata": {},
   "outputs": [],
   "source": [
    "# We import a csv file that has all the industry returns from 1930-2009\n",
    "ind = pd.read_csv(\"C:/Users/sandh/OneDrive/Documents/Data_files/data/ind30_m_ew_rets.csv\",header=0, index_col=0)/100\n",
    "ind.index = pd.to_datetime(ind.index, format=\"%Y%m\").to_period('M')\n",
    "ind.columns = ind.columns.str.strip()\n",
    "ind.head()\n",
    "cov = ind.cov()"
   ]
  },
  {
   "cell_type": "markdown",
   "id": "1ef4f466-cf27-4292-9283-371b14ebb1d7",
   "metadata": {},
   "source": [
    "##### To make the data more relevant we would only look at the data from 1996 onwards\n",
    "###### First, we will calculate the annualized returns of these industry over the years"
   ]
  },
  {
   "cell_type": "code",
   "execution_count": 9,
   "id": "a944b009-beea-42b3-ab17-9a5792ffb4c5",
   "metadata": {},
   "outputs": [
    {
     "data": {
      "text/plain": [
       "<AxesSubplot:>"
      ]
     },
     "execution_count": 9,
     "metadata": {},
     "output_type": "execute_result"
    },
    {
     "data": {
      "image/png": "[encoded data removed]",
      "text/plain": [
       "<Figure size 432x288 with 1 Axes>"
      ]
     },
     "metadata": {
      "needs_background": "light"
     },
     "output_type": "display_data"
    }
   ],
   "source": [
    "def annualize_rets(df):\n",
    "    compounded_growth = (1+df).prod()\n",
    "    n_periods = df.shape[0]\n",
    "    return compounded_growth**(12/n_periods)-1\n",
    "annualize_rets(ind[\"1996\":\"2000\"]).plot.bar()"
   ]
  },
  {
   "cell_type": "raw",
   "id": "7a4f016e-6fef-4660-8b54-8ce8ae9a2bff",
   "metadata": {},
   "source": [
    "Now, we'll calculate the portfolio return and portfolio volatility for different portfolio that we might choose\n",
    "1.To calculate the portfolio_rets and portfolio_vol, we will first need to assign weights to different assets in our portfolio"
   ]
  },
  {
   "cell_type": "code",
   "execution_count": 4,
   "id": "325ce3d2-0c55-4466-91d6-d654990509e5",
   "metadata": {},
   "outputs": [],
   "source": [
    "def portfolio_return(weights, returns):\n",
    "    \"\"\"\n",
    "    Computes the return on a portfolio from constituent returns and weights\n",
    "    weights are a numpy array or Nx1 matrix and returns are a numpy array or Nx1 matrix\n",
    "    \"\"\"\n",
    "    return weights.T @ returns\n",
    "\n",
    "\n",
    "def portfolio_vol(weights, covmat):\n",
    "    \"\"\"\n",
    "    Computes the vol of a portfolio from a covariance matrix and constituent weights\n",
    "    weights are a numpy array or N x 1 maxtrix and covmat is an N x N matrix\n",
    "    \"\"\"\n",
    "    return (weights.T @ covmat @ weights)**0.5"
   ]
  },
  {
   "cell_type": "code",
   "execution_count": 11,
   "id": "542106d3-302c-49df-a23a-db1257c7e264",
   "metadata": {},
   "outputs": [],
   "source": [
    "er = annualize_rets(ind[\"1996\":\"2000\"])\n",
    "cov = ind[\"1996\":\"2000\"].cov()"
   ]
  },
  {
   "cell_type": "markdown",
   "id": "462b3434-234f-4177-ae41-576bd8b6c372",
   "metadata": {},
   "source": [
    "## Plotting the Efficient Frontier\n",
    "#### Let's assign weights to the different industries that we might choose for our portfolio\n",
    "In the case of 2 assets, the problem is somewhat simplified, since the weight of the second asset is 1-the weight of the first asset.\n",
    "We will write a function that draws the efficient frontier for a simple 2 asset case.\n",
    "We will start by generating a sequence of weights in a list of tuples."
   ]
  },
  {
   "cell_type": "code",
   "execution_count": 12,
   "id": "d9d453a6-a85d-406e-aa0c-b0757229063a",
   "metadata": {},
   "outputs": [],
   "source": [
    "import numpy as np\n",
    "\n",
    "n_points = 20\n",
    "weights = [np.array([w, 1-w]) for w in np.linspace(0, 1, n_points)]\n"
   ]
  },
  {
   "cell_type": "code",
   "execution_count": 13,
   "id": "f2d0f1ee-77c6-4328-bcc3-9f8578fc75b9",
   "metadata": {},
   "outputs": [
    {
     "data": {
      "text/plain": [
       "<AxesSubplot:xlabel='V', ylabel='R'>"
      ]
     },
     "execution_count": 13,
     "metadata": {},
     "output_type": "execute_result"
    },
    {
     "data": {
      "image/png": "[encoded data removed]",
      "text/plain": [
       "<Figure size 432x288 with 1 Axes>"
      ]
     },
     "metadata": {
      "needs_background": "light"
     },
     "output_type": "display_data"
    }
   ],
   "source": [
    "l = [\"Games\", \"Fin\"]\n",
    "rets = [portfolio_return(w, er[l]) for w in weights]\n",
    "vols = [portfolio_vol(w, cov.loc[l,l]) for w in weights]\n",
    "ef = pd.DataFrame({\"R\": rets, \"V\": vols})\n",
    "ef.plot.scatter(x=\"V\", y=\"R\")"
   ]
  },
  {
   "cell_type": "markdown",
   "id": "528fd373-111a-40f4-9c70-f9edfbff06d8",
   "metadata": {},
   "source": [
    "These are all the possible portfolios that we can choose from"
   ]
  },
  {
   "cell_type": "markdown",
   "id": "89ed2291-f199-47bc-9025-420b537a8c29",
   "metadata": {},
   "source": [
    "In order to find the optimal weights, we need a function that will minimize the volatility for a given level of return."
   ]
  },
  {
   "cell_type": "code",
   "execution_count": 22,
   "id": "e8edb5d3-0734-4e54-90c5-ee735e4de803",
   "metadata": {},
   "outputs": [],
   "source": [
    "from scipy.optimize import minimize\n",
    "\n",
    "def minimize_vol(target_return, er, cov):\n",
    "    \"\"\"\n",
    "    Returns the optimal weights that achieve the target return\n",
    "    given a set of expected returns and a covariance matrix\n",
    "    \"\"\"\n",
    "    n = er.shape[0]\n",
    "    init_guess = np.repeat(1/n, n)\n",
    "    bounds = ((0.0, 1.0),) * n # an N-tuple of 2-tuples!\n",
    "    # construct the constraints\n",
    "    weights_sum_to_1 = {'type': 'eq',\n",
    "                        'fun': lambda weights: np.sum(weights) - 1\n",
    "    }\n",
    "    return_is_target = {'type': 'eq',\n",
    "                        'args': (er,),\n",
    "                        'fun': lambda weights, er: target_return - portfolio_return(weights,er)\n",
    "    }\n",
    "    weights = minimize(portfolio_vol, init_guess,\n",
    "                       args=(cov,), method='SLSQP',\n",
    "                       options={'disp': False},\n",
    "                       constraints=(weights_sum_to_1,return_is_target),\n",
    "                       bounds=bounds)\n",
    "    return weights.x"
   ]
  },
  {
   "cell_type": "code",
   "execution_count": 24,
   "id": "c60274a7-071c-458a-bb4d-a95ee531ae88",
   "metadata": {},
   "outputs": [
    {
     "ename": "NameError",
     "evalue": "name 'weights_15' is not defined",
     "output_type": "error",
     "traceback": [
      "\u001b[1;31m---------------------------------------------------------------------------\u001b[0m",
      "\u001b[1;31mNameError\u001b[0m                                 Traceback (most recent call last)",
      "\u001b[1;32m<ipython-input-24-a260af2af82e>\u001b[0m in \u001b[0;36m<module>\u001b[1;34m\u001b[0m\n\u001b[0;32m      1\u001b[0m \u001b[0mweights\u001b[0m \u001b[1;33m=\u001b[0m \u001b[0mminimize_vol\u001b[0m\u001b[1;33m(\u001b[0m\u001b[1;36m0.15\u001b[0m\u001b[1;33m,\u001b[0m \u001b[0mer\u001b[0m\u001b[1;33m[\u001b[0m\u001b[0ml\u001b[0m\u001b[1;33m]\u001b[0m\u001b[1;33m,\u001b[0m \u001b[0mcov\u001b[0m\u001b[1;33m.\u001b[0m\u001b[0mloc\u001b[0m\u001b[1;33m[\u001b[0m\u001b[0ml\u001b[0m\u001b[1;33m,\u001b[0m\u001b[0ml\u001b[0m\u001b[1;33m]\u001b[0m\u001b[1;33m)\u001b[0m\u001b[1;33m\u001b[0m\u001b[1;33m\u001b[0m\u001b[0m\n\u001b[1;32m----> 2\u001b[1;33m \u001b[0mvol_15\u001b[0m \u001b[1;33m=\u001b[0m \u001b[0mportfolio_vol\u001b[0m\u001b[1;33m(\u001b[0m\u001b[0mweights_15\u001b[0m\u001b[1;33m,\u001b[0m \u001b[0mcov\u001b[0m\u001b[1;33m.\u001b[0m\u001b[0mloc\u001b[0m\u001b[1;33m[\u001b[0m\u001b[0ml\u001b[0m\u001b[1;33m,\u001b[0m\u001b[0ml\u001b[0m\u001b[1;33m]\u001b[0m\u001b[1;33m)\u001b[0m\u001b[1;33m\u001b[0m\u001b[1;33m\u001b[0m\u001b[0m\n\u001b[0m\u001b[0;32m      3\u001b[0m \u001b[0mvol_15\u001b[0m\u001b[1;33m\u001b[0m\u001b[1;33m\u001b[0m\u001b[0m\n",
      "\u001b[1;31mNameError\u001b[0m: name 'weights_15' is not defined"
     ]
    }
   ],
   "source": [
    "weights = minimize_vol(0.15, er[l], cov.loc[l,l])\n",
    "vol_15 = portfolio_vol(weights_15, cov.loc[l,l])\n",
    "vol_15"
   ]
  },
  {
   "cell_type": "code",
   "execution_count": null,
   "id": "cf0888a7-e614-4b71-8b1b-b6b2d9f9963b",
   "metadata": {},
   "outputs": [],
   "source": []
  }
 ],
 "metadata": {
  "kernelspec": {
   "display_name": "Python 3",
   "language": "python",
   "name": "python3"
  },
  "language_info": {
   "codemirror_mode": {
    "name": "ipython",
    "version": 3
   },
   "file_extension": ".py",
   "mimetype": "text/x-python",
   "name": "python",
   "nbconvert_exporter": "python",
   "pygments_lexer": "ipython3",
   "version": "3.8.8"
  }
 },
 "nbformat": 4,
 "nbformat_minor": 5
}
